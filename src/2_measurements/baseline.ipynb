{
 "cells": [
  {
   "cell_type": "markdown",
   "id": "42a267a4-2b5e-4f6f-883e-17d399a405c6",
   "metadata": {},
   "source": [
    "# **Baseline measurements**\n",
    "\n",
    "A baseline, non-federated model trained on the whole MNIST dataset.\n",
    "\n",
    "Parameters are set as in the federated clients."
   ]
  },
  {
   "cell_type": "code",
   "execution_count": 1,
   "id": "881f11bb-416e-4fcc-b863-666052c82bbd",
   "metadata": {},
   "outputs": [],
   "source": [
    "import sys\n",
    "\n",
    "import pandas as pd\n",
    "import numpy as np\n",
    "\n",
    "import torch\n",
    "import torch.nn.functional as F\n",
    "\n",
    "sys.path.append(\"..\")\n",
    "import tools\n",
    "import net as net_implementation\n",
    "\n",
    "from tqdm.notebook import tqdm"
   ]
  },
  {
   "cell_type": "code",
   "execution_count": 2,
   "id": "4d572ca3-6c04-4b06-8990-ac0ddf6b0660",
   "metadata": {},
   "outputs": [
    {
     "name": "stdout",
     "output_type": "stream",
     "text": [
      "free cuda memory:\t11.300171\n"
     ]
    }
   ],
   "source": [
    "DEVICE = torch.device(\"cuda:0\" if (torch.cuda.is_available() and tools.is_mem_enough()) else \"cpu\")"
   ]
  },
  {
   "cell_type": "code",
   "execution_count": 3,
   "id": "3dcd26c9-fdc2-4b3e-9da8-0e081365f70e",
   "metadata": {},
   "outputs": [],
   "source": [
    "DATA_PATH = \"../../data/MNIST/mnist_train.csv\"\n",
    "RESULT_PATH = \"../../results/baseline/\""
   ]
  },
  {
   "cell_type": "markdown",
   "id": "9158054d-eb79-46d9-b9c3-2f6f4813261d",
   "metadata": {},
   "source": [
    "## Data loader"
   ]
  },
  {
   "cell_type": "code",
   "execution_count": 4,
   "id": "7ddf3d7f-77db-426d-8039-c5c9808ab286",
   "metadata": {},
   "outputs": [],
   "source": [
    "train_loader, test_loader = tools.create_data_loaders(df_path=DATA_PATH)"
   ]
  },
  {
   "cell_type": "markdown",
   "id": "fbd85612-bc2e-4c70-b1be-caab1e4dbeec",
   "metadata": {},
   "source": [
    "## Training"
   ]
  },
  {
   "cell_type": "code",
   "execution_count": 5,
   "id": "e82d69d1-d8e3-4252-9467-318aa51758f7",
   "metadata": {},
   "outputs": [],
   "source": [
    "EPOCHS = 500"
   ]
  },
  {
   "cell_type": "code",
   "execution_count": 6,
   "id": "136a1cc3-dd52-4845-a793-ec21e107849d",
   "metadata": {},
   "outputs": [
    {
     "data": {
      "application/vnd.jupyter.widget-view+json": {
       "model_id": "fc60afedab454047a09e2bcd50e7c4a3",
       "version_major": 2,
       "version_minor": 0
      },
      "text/plain": [
       "  0%|          | 0/500 [00:00<?, ?it/s]"
      ]
     },
     "metadata": {},
     "output_type": "display_data"
    },
    {
     "name": "stderr",
     "output_type": "stream",
     "text": [
      "/mnt/data/phd/kutatas/FeLeSh/src/2_measurements/../net.py:21: UserWarning: Implicit dimension choice for log_softmax has been deprecated. Change the call to include dim=X as an argument.\n",
      "  return F.log_softmax(x)\n"
     ]
    }
   ],
   "source": [
    "net = net_implementation.Net().to(DEVICE)\n",
    "optimizer = torch.optim.SGD(net.parameters(), lr=0.001, momentum=.9)\n",
    "train_losses = []\n",
    "test_correct, test_accuracy, test_loss = [], [], []\n",
    "for _ in tqdm(range(EPOCHS)):\n",
    "    #training:\n",
    "    l_, total = 0, 0\n",
    "    for images, labels in train_loader:\n",
    "        images, labels = images.to(DEVICE), labels.to(DEVICE)\n",
    "        optimizer.zero_grad()\n",
    "        loss = F.nll_loss(net(images), labels)\n",
    "        l_ += loss.item()\n",
    "        total += labels.size(0)\n",
    "        loss.backward()\n",
    "        optimizer.step()\n",
    "    train_losses.append(l_)\n",
    "    #testing:\n",
    "    correct, total, loss = 0, 0, 0.0\n",
    "    with torch.no_grad():\n",
    "        for data in test_loader:\n",
    "            images, labels = data[0].to(DEVICE), data[1].to(DEVICE)\n",
    "            outputs = net(images)\n",
    "            loss += F.nll_loss(outputs, labels).item()\n",
    "            _, predicted = torch.max(outputs.data, 1)\n",
    "            total += labels.size(0)\n",
    "            correct += (predicted == labels).sum().item()\n",
    "    accuracy = correct / total\n",
    "    test_correct.append(correct)\n",
    "    test_accuracy.append(accuracy)\n",
    "    test_loss.append(loss)"
   ]
  },
  {
   "cell_type": "markdown",
   "id": "fe438041-451e-4c9b-b9ce-e3a79125b024",
   "metadata": {},
   "source": [
    "## Saving results"
   ]
  },
  {
   "cell_type": "code",
   "execution_count": 7,
   "id": "2b268a86-1e59-45f5-b88f-0c9197398831",
   "metadata": {},
   "outputs": [],
   "source": [
    "metrics = []\n",
    "values = []\n",
    "rounds = []\n",
    "epochs = []\n",
    "\n",
    "for i, (train_loss, test_loss, test_accuracy) in enumerate(zip(train_losses, test_loss, test_accuracy)):\n",
    "    metrics.append(\"test_loss\")\n",
    "    rounds.append(-1)\n",
    "    epochs.append(i)\n",
    "    values.append(test_loss)\n",
    "    metrics.append(\"train_loss\")\n",
    "    rounds.append(-1)\n",
    "    epochs.append(i)\n",
    "    values.append(train_loss*len(test_loader)/len(train_loader))\n",
    "    metrics.append(\"test_accuracy\")\n",
    "    rounds.append(-1)\n",
    "    epochs.append(i)\n",
    "    values.append(test_accuracy)"
   ]
  },
  {
   "cell_type": "code",
   "execution_count": 8,
   "id": "bf288fcd-7ccc-4177-a2b5-3898c10166cd",
   "metadata": {},
   "outputs": [],
   "source": [
    "df_save = pd.DataFrame(data = np.array([metrics, values, rounds, epochs]).T,\n",
    "                      columns = [\"metric\", \"value\", \"round\", \"epoch\"])\n",
    "df_save.to_csv(RESULT_PATH+\"performance.csv\", index=False)"
   ]
  }
 ],
 "metadata": {
  "kernelspec": {
   "display_name": "fl_sim",
   "language": "python",
   "name": "fl_sim"
  },
  "language_info": {
   "codemirror_mode": {
    "name": "ipython",
    "version": 3
   },
   "file_extension": ".py",
   "mimetype": "text/x-python",
   "name": "python",
   "nbconvert_exporter": "python",
   "pygments_lexer": "ipython3",
   "version": "3.10.4"
  }
 },
 "nbformat": 4,
 "nbformat_minor": 5
}
