{
 "cells": [
  {
   "cell_type": "markdown",
   "id": "ff768368-461d-4f7c-9285-411caadc8c8c",
   "metadata": {},
   "source": [
    "# **Sharing a Fixed Partition of Participants' Data**\n",
    "\n",
    "Let us assume the case that fellow participants *cannot be trusted*. In this setup, each participants has to share exactly the same data each time.\n",
    "\n",
    "To model this we can create datasets as follows:\n",
    "1. We begin with processing `non-iid50` data.\n",
    "2. In this dataset, each participant has approx. 5420 samples.\n",
    "3. Our goal: every participant shall have at least approx. 542 samples from the 10 digits.\n",
    "4. Originally, they have approx. 301 samples/digits, so:\n",
    "\n",
    "> $301+9x = 542$\n",
    ">\n",
    "> $x \\approxeq 27$\n",
    "\n",
    "5. We have to share at least 27 samples from each participants to create the uniform distributions."
   ]
  }
 ],
 "metadata": {
  "kernelspec": {
   "display_name": "fl_sim",
   "language": "python",
   "name": "fl_sim"
  },
  "language_info": {
   "codemirror_mode": {
    "name": "ipython",
    "version": 3
   },
   "file_extension": ".py",
   "mimetype": "text/x-python",
   "name": "python",
   "nbconvert_exporter": "python",
   "pygments_lexer": "ipython3",
   "version": "3.10.4"
  }
 },
 "nbformat": 4,
 "nbformat_minor": 5
}
