{
 "cells": [
  {
   "cell_type": "markdown",
   "id": "4cd927d5-3a5d-47aa-86fa-ac17de80e866",
   "metadata": {},
   "source": [
    "# **Sharing Different Data Within Each Training Round**\n",
    "\n",
    "To save RAM usage during measurements, we will create datasets for each training round."
   ]
  },
  {
   "cell_type": "code",
   "execution_count": 1,
   "id": "b17ca84f-8904-46c4-9b88-f75110a2be3a",
   "metadata": {},
   "outputs": [],
   "source": [
    "N_ROUNDS = 500\n",
    "SAMPLES_TO_SHARE = 27 #num. samples/digit/clients\n",
    "SHARED_FILES = \"../../data/participants/change_shared/\" #output path\n",
    "NON_IID50_PATH = \"../../data/participants/non_iid50/\" # input"
   ]
  },
  {
   "cell_type": "code",
   "execution_count": 2,
   "id": "a42b4daa-be8f-4153-965d-91a001f01a96",
   "metadata": {},
   "outputs": [],
   "source": [
    "import pandas as pd\n",
    "import data_mixer"
   ]
  },
  {
   "cell_type": "code",
   "execution_count": 3,
   "id": "191b5eb6-99cf-4d57-a27b-8c93eb925728",
   "metadata": {},
   "outputs": [],
   "source": [
    "mixer = data_mixer.DataMixer(NON_IID50_PATH)"
   ]
  },
  {
   "cell_type": "code",
   "execution_count": 4,
   "id": "3c445f7e-7b61-4263-b63b-ecedd8723748",
   "metadata": {},
   "outputs": [],
   "source": [
    "for i in range(N_ROUNDS):\n",
    "    mixer.create_new_shared_data(SAMPLES_TO_SHARE).to_csv(SHARED_FILES+\"round%d.csv\"%i,\n",
    "                                                         index=False)"
   ]
  }
 ],
 "metadata": {
  "kernelspec": {
   "display_name": "fl_sim",
   "language": "python",
   "name": "fl_sim"
  },
  "language_info": {
   "codemirror_mode": {
    "name": "ipython",
    "version": 3
   },
   "file_extension": ".py",
   "mimetype": "text/x-python",
   "name": "python",
   "nbconvert_exporter": "python",
   "pygments_lexer": "ipython3",
   "version": "3.10.4"
  }
 },
 "nbformat": 4,
 "nbformat_minor": 5
}
